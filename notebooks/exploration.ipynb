{
 "cells": [
  {
   "cell_type": "markdown",
   "id": "42f028bf",
   "metadata": {},
   "source": [
    "# LLM Visualization Exploration\n",
    "\n",
    "Interactive notebook for exploring LLM concepts through visualizations."
   ]
  },
  {
   "cell_type": "code",
   "execution_count": null,
   "id": "56d923e1",
   "metadata": {},
   "outputs": [],
   "source": [
    "import sys\n",
    "sys.path.append('..')\n",
    "\n",
    "import numpy as np\n",
    "import matplotlib.pyplot as plt\n",
    "from src.tokenization import tokenize, get_token_frequencies\n",
    "from src.embeddings import create_similarity_matrix\n",
    "from src.sampling import temperature_entropy_analysis\n",
    "\n",
    "%matplotlib inline"
   ]
  },
  {
   "cell_type": "markdown",
   "id": "e004180d",
   "metadata": {},
   "source": [
    "## 1. Tokenization Example"
   ]
  },
  {
   "cell_type": "code",
   "execution_count": null,
   "id": "202602ae",
   "metadata": {},
   "outputs": [],
   "source": [
    "text = \"Large language models generate text token by token.\"\n",
    "tokens = tokenize(text)\n",
    "print(f\"Tokens: {tokens}\")\n",
    "print(f\"Token count: {len(tokens)}\")"
   ]
  },
  {
   "cell_type": "markdown",
   "id": "ab3a7d62",
   "metadata": {},
   "source": [
    "## 2. Temperature vs Entropy"
   ]
  },
  {
   "cell_type": "code",
   "execution_count": null,
   "id": "3a7366f4",
   "metadata": {},
   "outputs": [],
   "source": [
    "temps, entropies = temperature_entropy_analysis(vocab_size=30)\n",
    "\n",
    "plt.figure(figsize=(8, 5))\n",
    "plt.plot(temps, entropies, marker='o', linewidth=2)\n",
    "plt.xlabel('Temperature')\n",
    "plt.ylabel('Entropy (bits)')\n",
    "plt.title('Temperature vs Output Entropy')\n",
    "plt.grid(True, alpha=0.3)\n",
    "plt.show()"
   ]
  },
  {
   "cell_type": "markdown",
   "id": "202f54b7",
   "metadata": {},
   "source": [
    "## 3. Word Similarity Matrix"
   ]
  },
  {
   "cell_type": "code",
   "execution_count": null,
   "id": "836f783f",
   "metadata": {},
   "outputs": [],
   "source": [
    "words = ['model', 'neural', 'network', 'token', 'embedding', 'attention']\n",
    "sim_matrix = create_similarity_matrix(words, dimensions=32)\n",
    "\n",
    "plt.figure(figsize=(8, 6))\n",
    "plt.imshow(sim_matrix, cmap='coolwarm', vmin=-1, vmax=1)\n",
    "plt.colorbar(label='Cosine Similarity')\n",
    "plt.xticks(range(len(words)), words, rotation=45, ha='right')\n",
    "plt.yticks(range(len(words)), words)\n",
    "plt.title('Word Similarity Heatmap')\n",
    "plt.tight_layout()\n",
    "plt.show()"
   ]
  },
  {
   "cell_type": "markdown",
   "id": "457d7cbe",
   "metadata": {},
   "source": [
    "## 4. Try Your Own Text"
   ]
  },
  {
   "cell_type": "code",
   "execution_count": null,
   "id": "9bc0a033",
   "metadata": {},
   "outputs": [],
   "source": [
    "# Experiment with your own text here!\n",
    "custom_text = \"...\"\n",
    "custom_tokens = tokenize(custom_text)\n",
    "frequencies = get_token_frequencies(custom_tokens, top_k=10)\n",
    "\n",
    "# Plot frequencies\n",
    "words, counts = zip(*frequencies) if frequencies else ([], [])\n",
    "plt.figure(figsize=(10, 5))\n",
    "plt.bar(words, counts)\n",
    "plt.xlabel('Tokens')\n",
    "plt.ylabel('Frequency')\n",
    "plt.title('Token Frequency Distribution')\n",
    "plt.xticks(rotation=45, ha='right')\n",
    "plt.tight_layout()\n",
    "plt.show()"
   ]
  }
 ],
 "metadata": {
  "language_info": {
   "name": "python"
  }
 },
 "nbformat": 4,
 "nbformat_minor": 5
}
